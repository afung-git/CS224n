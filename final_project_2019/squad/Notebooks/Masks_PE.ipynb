{
 "cells": [
  {
   "cell_type": "code",
   "execution_count": 1,
   "metadata": {},
   "outputs": [],
   "source": [
    "import torch\n",
    "import numpy as np\n",
    "import torch.nn as nn\n",
    "import torch.nn.functional as F\n",
    "import math\n",
    "import copy\n",
    "from torch.autograd import Variable"
   ]
  },
  {
   "cell_type": "code",
   "execution_count": 2,
   "metadata": {},
   "outputs": [],
   "source": [
    "class PositionalEncodings(nn.Module):\n",
    "    def __init__(self, d, drop_prob=.1, max_len=5000):\n",
    "        \"\"\"\n",
    "        :param d: Dimension of embedding\n",
    "        :param drop_prob: Dropout Rate\n",
    "        :param max_len: Maximum length of a sequence\n",
    "        \"\"\"\n",
    "        super(PositionalEncodings, self).__init__()\n",
    "#         self.dropout = nn.Dropout(p=drop_prob)\n",
    "\n",
    "        PE = torch.zeros((max_len, d))  # (L, d)\n",
    "        pos = torch.arange(max_len, dtype=torch.float32).unsqueeze(1)  # (L, 1)\n",
    "        div = torch.exp(torch.arange(0., d, 2)/d*math.log(1e4))  # (d/2)\n",
    "        PE[:, ::2] = torch.sin(pos/div)  # (L, d/2)\n",
    "        PE[:, 1::2] = torch.cos(pos/div)  # (L, d/2)\n",
    "        self.register_buffer('PE', PE)  # (L, d)\n",
    "\n",
    "    def forward(self, x):\n",
    "        \"\"\"\n",
    "        :param x: Input (batch, seq_len, d)\n",
    "        :return: x + PE\n",
    "        \"\"\"\n",
    "        return x + self.PE[:x.shape[1]]  # You added the same PE sinusoid to all positions"
   ]
  },
  {
   "cell_type": "code",
   "execution_count": 3,
   "metadata": {},
   "outputs": [],
   "source": [
    "class PositionalEncoding(nn.Module):\n",
    "    \"Implement the PE function.\"\n",
    "    def __init__(self, d_model, max_len=5000):\n",
    "        super(PositionalEncoding, self).__init__()\n",
    "        \n",
    "        # Compute the positional encodings once in log space.\n",
    "        pe = torch.zeros(max_len, d_model)\n",
    "\n",
    "        position = torch.arange(0., max_len).unsqueeze(1)\n",
    "        div_term = torch.exp(torch.arange(0., d_model, 2) *\n",
    "                             -(math.log(1e4) / d_model))\n",
    "        pe[:, 0::2] = torch.sin(position * div_term)\n",
    "        pe[:, 1::2] = torch.cos(position * div_term)\n",
    "        pe = pe.unsqueeze(0)\n",
    "        self.register_buffer('pe', pe)\n",
    "        \n",
    "    def forward(self, x):\n",
    "        x = x + Variable(self.pe[:, :x.size(1)], \n",
    "                         requires_grad=False)\n",
    "        return x"
   ]
  },
  {
   "cell_type": "code",
   "execution_count": 4,
   "metadata": {},
   "outputs": [],
   "source": [
    "PE1 = PositionalEncoding(10)"
   ]
  },
  {
   "cell_type": "code",
   "execution_count": 5,
   "metadata": {},
   "outputs": [],
   "source": [
    "O1=PE1(torch.zeros((2,3,10)))"
   ]
  },
  {
   "cell_type": "code",
   "execution_count": 6,
   "metadata": {},
   "outputs": [],
   "source": [
    "PE2 = PositionalEncodings(10)"
   ]
  },
  {
   "cell_type": "code",
   "execution_count": 7,
   "metadata": {},
   "outputs": [],
   "source": [
    "O2=PE2(torch.zeros((2,3,10)))"
   ]
  },
  {
   "cell_type": "code",
   "execution_count": 8,
   "metadata": {},
   "outputs": [
    {
     "data": {
      "text/plain": [
       "True"
      ]
     },
     "execution_count": 8,
     "metadata": {},
     "output_type": "execute_result"
    }
   ],
   "source": [
    "np.allclose(O1,O2)"
   ]
  },
  {
   "cell_type": "markdown",
   "metadata": {},
   "source": [
    "## Source sentence masking"
   ]
  },
  {
   "cell_type": "code",
   "execution_count": 9,
   "metadata": {},
   "outputs": [],
   "source": [
    "src = torch.cat((torch.ones(2,3), torch.zeros(2,3)), dim=1)  # Source sentence (B x L)"
   ]
  },
  {
   "cell_type": "code",
   "execution_count": 10,
   "metadata": {},
   "outputs": [],
   "source": [
    "scores = 5*torch.ones((2,3,6,6))  # Attention Logits, from Q.KT (B x H x L x L)"
   ]
  },
  {
   "cell_type": "code",
   "execution_count": 11,
   "metadata": {},
   "outputs": [],
   "source": [
    "src_mask = (src != 0).unsqueeze(-2)  # Source Mask (B x 1 x L)"
   ]
  },
  {
   "cell_type": "code",
   "execution_count": 12,
   "metadata": {},
   "outputs": [],
   "source": [
    "src_mask = src_mask.unsqueeze(1)  # Multi-Headed source mask, same mask per head (B x 1(H) x 1(L) x L)"
   ]
  },
  {
   "cell_type": "code",
   "execution_count": 13,
   "metadata": {},
   "outputs": [],
   "source": [
    "s1=scores.masked_fill(src_mask == 0, -1e9)  # Masking "
   ]
  },
  {
   "cell_type": "code",
   "execution_count": 14,
   "metadata": {},
   "outputs": [
    {
     "data": {
      "text/plain": [
       "tensor([[[[ 5.0000e+00,  5.0000e+00,  5.0000e+00, -1.0000e+09, -1.0000e+09,\n",
       "           -1.0000e+09],\n",
       "          [ 5.0000e+00,  5.0000e+00,  5.0000e+00, -1.0000e+09, -1.0000e+09,\n",
       "           -1.0000e+09],\n",
       "          [ 5.0000e+00,  5.0000e+00,  5.0000e+00, -1.0000e+09, -1.0000e+09,\n",
       "           -1.0000e+09],\n",
       "          [ 5.0000e+00,  5.0000e+00,  5.0000e+00, -1.0000e+09, -1.0000e+09,\n",
       "           -1.0000e+09],\n",
       "          [ 5.0000e+00,  5.0000e+00,  5.0000e+00, -1.0000e+09, -1.0000e+09,\n",
       "           -1.0000e+09],\n",
       "          [ 5.0000e+00,  5.0000e+00,  5.0000e+00, -1.0000e+09, -1.0000e+09,\n",
       "           -1.0000e+09]],\n",
       "\n",
       "         [[ 5.0000e+00,  5.0000e+00,  5.0000e+00, -1.0000e+09, -1.0000e+09,\n",
       "           -1.0000e+09],\n",
       "          [ 5.0000e+00,  5.0000e+00,  5.0000e+00, -1.0000e+09, -1.0000e+09,\n",
       "           -1.0000e+09],\n",
       "          [ 5.0000e+00,  5.0000e+00,  5.0000e+00, -1.0000e+09, -1.0000e+09,\n",
       "           -1.0000e+09],\n",
       "          [ 5.0000e+00,  5.0000e+00,  5.0000e+00, -1.0000e+09, -1.0000e+09,\n",
       "           -1.0000e+09],\n",
       "          [ 5.0000e+00,  5.0000e+00,  5.0000e+00, -1.0000e+09, -1.0000e+09,\n",
       "           -1.0000e+09],\n",
       "          [ 5.0000e+00,  5.0000e+00,  5.0000e+00, -1.0000e+09, -1.0000e+09,\n",
       "           -1.0000e+09]],\n",
       "\n",
       "         [[ 5.0000e+00,  5.0000e+00,  5.0000e+00, -1.0000e+09, -1.0000e+09,\n",
       "           -1.0000e+09],\n",
       "          [ 5.0000e+00,  5.0000e+00,  5.0000e+00, -1.0000e+09, -1.0000e+09,\n",
       "           -1.0000e+09],\n",
       "          [ 5.0000e+00,  5.0000e+00,  5.0000e+00, -1.0000e+09, -1.0000e+09,\n",
       "           -1.0000e+09],\n",
       "          [ 5.0000e+00,  5.0000e+00,  5.0000e+00, -1.0000e+09, -1.0000e+09,\n",
       "           -1.0000e+09],\n",
       "          [ 5.0000e+00,  5.0000e+00,  5.0000e+00, -1.0000e+09, -1.0000e+09,\n",
       "           -1.0000e+09],\n",
       "          [ 5.0000e+00,  5.0000e+00,  5.0000e+00, -1.0000e+09, -1.0000e+09,\n",
       "           -1.0000e+09]]],\n",
       "\n",
       "\n",
       "        [[[ 5.0000e+00,  5.0000e+00,  5.0000e+00, -1.0000e+09, -1.0000e+09,\n",
       "           -1.0000e+09],\n",
       "          [ 5.0000e+00,  5.0000e+00,  5.0000e+00, -1.0000e+09, -1.0000e+09,\n",
       "           -1.0000e+09],\n",
       "          [ 5.0000e+00,  5.0000e+00,  5.0000e+00, -1.0000e+09, -1.0000e+09,\n",
       "           -1.0000e+09],\n",
       "          [ 5.0000e+00,  5.0000e+00,  5.0000e+00, -1.0000e+09, -1.0000e+09,\n",
       "           -1.0000e+09],\n",
       "          [ 5.0000e+00,  5.0000e+00,  5.0000e+00, -1.0000e+09, -1.0000e+09,\n",
       "           -1.0000e+09],\n",
       "          [ 5.0000e+00,  5.0000e+00,  5.0000e+00, -1.0000e+09, -1.0000e+09,\n",
       "           -1.0000e+09]],\n",
       "\n",
       "         [[ 5.0000e+00,  5.0000e+00,  5.0000e+00, -1.0000e+09, -1.0000e+09,\n",
       "           -1.0000e+09],\n",
       "          [ 5.0000e+00,  5.0000e+00,  5.0000e+00, -1.0000e+09, -1.0000e+09,\n",
       "           -1.0000e+09],\n",
       "          [ 5.0000e+00,  5.0000e+00,  5.0000e+00, -1.0000e+09, -1.0000e+09,\n",
       "           -1.0000e+09],\n",
       "          [ 5.0000e+00,  5.0000e+00,  5.0000e+00, -1.0000e+09, -1.0000e+09,\n",
       "           -1.0000e+09],\n",
       "          [ 5.0000e+00,  5.0000e+00,  5.0000e+00, -1.0000e+09, -1.0000e+09,\n",
       "           -1.0000e+09],\n",
       "          [ 5.0000e+00,  5.0000e+00,  5.0000e+00, -1.0000e+09, -1.0000e+09,\n",
       "           -1.0000e+09]],\n",
       "\n",
       "         [[ 5.0000e+00,  5.0000e+00,  5.0000e+00, -1.0000e+09, -1.0000e+09,\n",
       "           -1.0000e+09],\n",
       "          [ 5.0000e+00,  5.0000e+00,  5.0000e+00, -1.0000e+09, -1.0000e+09,\n",
       "           -1.0000e+09],\n",
       "          [ 5.0000e+00,  5.0000e+00,  5.0000e+00, -1.0000e+09, -1.0000e+09,\n",
       "           -1.0000e+09],\n",
       "          [ 5.0000e+00,  5.0000e+00,  5.0000e+00, -1.0000e+09, -1.0000e+09,\n",
       "           -1.0000e+09],\n",
       "          [ 5.0000e+00,  5.0000e+00,  5.0000e+00, -1.0000e+09, -1.0000e+09,\n",
       "           -1.0000e+09],\n",
       "          [ 5.0000e+00,  5.0000e+00,  5.0000e+00, -1.0000e+09, -1.0000e+09,\n",
       "           -1.0000e+09]]]])"
      ]
     },
     "execution_count": 14,
     "metadata": {},
     "output_type": "execute_result"
    }
   ],
   "source": [
    "s1"
   ]
  },
  {
   "cell_type": "markdown",
   "metadata": {},
   "source": [
    "## Treating source sentence as target"
   ]
  },
  {
   "cell_type": "code",
   "execution_count": 15,
   "metadata": {},
   "outputs": [],
   "source": [
    "src_mask = (src != 0).unsqueeze(-2)  # Source Mask (B x 1 x L)"
   ]
  },
  {
   "cell_type": "code",
   "execution_count": 16,
   "metadata": {},
   "outputs": [],
   "source": [
    "tgt_mask = torch.from_numpy(np.tril(np.ones(6))).byte()  # Auto-regressive target mask (B x L x L)"
   ]
  },
  {
   "cell_type": "code",
   "execution_count": 17,
   "metadata": {},
   "outputs": [],
   "source": [
    "mask = (src_mask * tgt_mask).unsqueeze(1)  # Target mask with source mask (B x 1(H) x L x L)"
   ]
  },
  {
   "cell_type": "code",
   "execution_count": 18,
   "metadata": {},
   "outputs": [],
   "source": [
    "s2=scores.masked_fill(mask == 0, -1e9)  # Target mask"
   ]
  },
  {
   "cell_type": "code",
   "execution_count": 19,
   "metadata": {},
   "outputs": [
    {
     "data": {
      "text/plain": [
       "tensor([[[[ 5.0000e+00, -1.0000e+09, -1.0000e+09, -1.0000e+09, -1.0000e+09,\n",
       "           -1.0000e+09],\n",
       "          [ 5.0000e+00,  5.0000e+00, -1.0000e+09, -1.0000e+09, -1.0000e+09,\n",
       "           -1.0000e+09],\n",
       "          [ 5.0000e+00,  5.0000e+00,  5.0000e+00, -1.0000e+09, -1.0000e+09,\n",
       "           -1.0000e+09],\n",
       "          [ 5.0000e+00,  5.0000e+00,  5.0000e+00, -1.0000e+09, -1.0000e+09,\n",
       "           -1.0000e+09],\n",
       "          [ 5.0000e+00,  5.0000e+00,  5.0000e+00, -1.0000e+09, -1.0000e+09,\n",
       "           -1.0000e+09],\n",
       "          [ 5.0000e+00,  5.0000e+00,  5.0000e+00, -1.0000e+09, -1.0000e+09,\n",
       "           -1.0000e+09]],\n",
       "\n",
       "         [[ 5.0000e+00, -1.0000e+09, -1.0000e+09, -1.0000e+09, -1.0000e+09,\n",
       "           -1.0000e+09],\n",
       "          [ 5.0000e+00,  5.0000e+00, -1.0000e+09, -1.0000e+09, -1.0000e+09,\n",
       "           -1.0000e+09],\n",
       "          [ 5.0000e+00,  5.0000e+00,  5.0000e+00, -1.0000e+09, -1.0000e+09,\n",
       "           -1.0000e+09],\n",
       "          [ 5.0000e+00,  5.0000e+00,  5.0000e+00, -1.0000e+09, -1.0000e+09,\n",
       "           -1.0000e+09],\n",
       "          [ 5.0000e+00,  5.0000e+00,  5.0000e+00, -1.0000e+09, -1.0000e+09,\n",
       "           -1.0000e+09],\n",
       "          [ 5.0000e+00,  5.0000e+00,  5.0000e+00, -1.0000e+09, -1.0000e+09,\n",
       "           -1.0000e+09]],\n",
       "\n",
       "         [[ 5.0000e+00, -1.0000e+09, -1.0000e+09, -1.0000e+09, -1.0000e+09,\n",
       "           -1.0000e+09],\n",
       "          [ 5.0000e+00,  5.0000e+00, -1.0000e+09, -1.0000e+09, -1.0000e+09,\n",
       "           -1.0000e+09],\n",
       "          [ 5.0000e+00,  5.0000e+00,  5.0000e+00, -1.0000e+09, -1.0000e+09,\n",
       "           -1.0000e+09],\n",
       "          [ 5.0000e+00,  5.0000e+00,  5.0000e+00, -1.0000e+09, -1.0000e+09,\n",
       "           -1.0000e+09],\n",
       "          [ 5.0000e+00,  5.0000e+00,  5.0000e+00, -1.0000e+09, -1.0000e+09,\n",
       "           -1.0000e+09],\n",
       "          [ 5.0000e+00,  5.0000e+00,  5.0000e+00, -1.0000e+09, -1.0000e+09,\n",
       "           -1.0000e+09]]],\n",
       "\n",
       "\n",
       "        [[[ 5.0000e+00, -1.0000e+09, -1.0000e+09, -1.0000e+09, -1.0000e+09,\n",
       "           -1.0000e+09],\n",
       "          [ 5.0000e+00,  5.0000e+00, -1.0000e+09, -1.0000e+09, -1.0000e+09,\n",
       "           -1.0000e+09],\n",
       "          [ 5.0000e+00,  5.0000e+00,  5.0000e+00, -1.0000e+09, -1.0000e+09,\n",
       "           -1.0000e+09],\n",
       "          [ 5.0000e+00,  5.0000e+00,  5.0000e+00, -1.0000e+09, -1.0000e+09,\n",
       "           -1.0000e+09],\n",
       "          [ 5.0000e+00,  5.0000e+00,  5.0000e+00, -1.0000e+09, -1.0000e+09,\n",
       "           -1.0000e+09],\n",
       "          [ 5.0000e+00,  5.0000e+00,  5.0000e+00, -1.0000e+09, -1.0000e+09,\n",
       "           -1.0000e+09]],\n",
       "\n",
       "         [[ 5.0000e+00, -1.0000e+09, -1.0000e+09, -1.0000e+09, -1.0000e+09,\n",
       "           -1.0000e+09],\n",
       "          [ 5.0000e+00,  5.0000e+00, -1.0000e+09, -1.0000e+09, -1.0000e+09,\n",
       "           -1.0000e+09],\n",
       "          [ 5.0000e+00,  5.0000e+00,  5.0000e+00, -1.0000e+09, -1.0000e+09,\n",
       "           -1.0000e+09],\n",
       "          [ 5.0000e+00,  5.0000e+00,  5.0000e+00, -1.0000e+09, -1.0000e+09,\n",
       "           -1.0000e+09],\n",
       "          [ 5.0000e+00,  5.0000e+00,  5.0000e+00, -1.0000e+09, -1.0000e+09,\n",
       "           -1.0000e+09],\n",
       "          [ 5.0000e+00,  5.0000e+00,  5.0000e+00, -1.0000e+09, -1.0000e+09,\n",
       "           -1.0000e+09]],\n",
       "\n",
       "         [[ 5.0000e+00, -1.0000e+09, -1.0000e+09, -1.0000e+09, -1.0000e+09,\n",
       "           -1.0000e+09],\n",
       "          [ 5.0000e+00,  5.0000e+00, -1.0000e+09, -1.0000e+09, -1.0000e+09,\n",
       "           -1.0000e+09],\n",
       "          [ 5.0000e+00,  5.0000e+00,  5.0000e+00, -1.0000e+09, -1.0000e+09,\n",
       "           -1.0000e+09],\n",
       "          [ 5.0000e+00,  5.0000e+00,  5.0000e+00, -1.0000e+09, -1.0000e+09,\n",
       "           -1.0000e+09],\n",
       "          [ 5.0000e+00,  5.0000e+00,  5.0000e+00, -1.0000e+09, -1.0000e+09,\n",
       "           -1.0000e+09],\n",
       "          [ 5.0000e+00,  5.0000e+00,  5.0000e+00, -1.0000e+09, -1.0000e+09,\n",
       "           -1.0000e+09]]]])"
      ]
     },
     "execution_count": 19,
     "metadata": {},
     "output_type": "execute_result"
    }
   ],
   "source": [
    "s2"
   ]
  },
  {
   "cell_type": "code",
   "execution_count": 76,
   "metadata": {},
   "outputs": [
    {
     "data": {
      "text/plain": [
       "array([[1., 0., 0., 0., 0., 0.],\n",
       "       [1., 1., 0., 0., 0., 0.],\n",
       "       [1., 1., 1., 0., 0., 0.],\n",
       "       [1., 1., 1., 1., 0., 0.],\n",
       "       [1., 1., 1., 1., 1., 0.],\n",
       "       [1., 1., 1., 1., 1., 1.]])"
      ]
     },
     "execution_count": 76,
     "metadata": {},
     "output_type": "execute_result"
    }
   ],
   "source": [
    "np.tril(np.ones(6)) # Same as below."
   ]
  },
  {
   "cell_type": "code",
   "execution_count": 79,
   "metadata": {},
   "outputs": [
    {
     "data": {
      "text/plain": [
       "array([[1., 0., 0., 0., 0., 0.],\n",
       "       [1., 1., 0., 0., 0., 0.],\n",
       "       [1., 1., 1., 0., 0., 0.],\n",
       "       [1., 1., 1., 1., 0., 0.],\n",
       "       [1., 1., 1., 1., 1., 0.],\n",
       "       [1., 1., 1., 1., 1., 1.]])"
      ]
     },
     "execution_count": 79,
     "metadata": {},
     "output_type": "execute_result"
    }
   ],
   "source": [
    "np.tril(np.ones((6,6)))"
   ]
  },
  {
   "cell_type": "code",
   "execution_count": null,
   "metadata": {},
   "outputs": [],
   "source": []
  }
 ],
 "metadata": {
  "kernelspec": {
   "display_name": "Python 3",
   "language": "python",
   "name": "python3"
  },
  "language_info": {
   "codemirror_mode": {
    "name": "ipython",
    "version": 3
   },
   "file_extension": ".py",
   "mimetype": "text/x-python",
   "name": "python",
   "nbconvert_exporter": "python",
   "pygments_lexer": "ipython3",
   "version": "3.6.7"
  }
 },
 "nbformat": 4,
 "nbformat_minor": 2
}
